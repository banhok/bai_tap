{
 "cells": [
  {
   "cell_type": "code",
   "execution_count": 2,
   "id": "dfb55b8e-a85e-4237-9192-dd4c6f10d48c",
   "metadata": {},
   "outputs": [
    {
     "name": "stdin",
     "output_type": "stream",
     "text": [
      "Ten ban la gi Nam\n"
     ]
    },
    {
     "name": "stdout",
     "output_type": "stream",
     "text": [
      "Xin chao, Nam\n"
     ]
    }
   ],
   "source": [
    "#w2a2\n",
    "name = input(\"Ten ban la gi\")\n",
    "print(\"Xin chao,\", name)\n"
   ]
  },
  {
   "cell_type": "code",
   "execution_count": 10,
   "id": "072e2aa7-1318-4194-96d2-666f52b03af2",
   "metadata": {},
   "outputs": [
    {
     "name": "stdout",
     "output_type": "stream",
     "text": [
      "tong: 11\n",
      "hieu: -1\n",
      "tich: 30\n",
      "thuong: 0.8333333333333334\n",
      "chia lay du: 5\n",
      "luy thua: 15625\n"
     ]
    }
   ],
   "source": [
    "a=5\n",
    "b=6\n",
    "print(\"tong:\", a+b)\n",
    "print(\"hieu:\", a-b)\n",
    "print(\"tich:\", a*b)\n",
    "print(\"thuong:\", a/b)\n",
    "print(\"chia lay du:\", a%b)\n",
    "print(\"luy thua:\", a**b)\n"
   ]
  },
  {
   "cell_type": "code",
   "execution_count": 21,
   "id": "134da52c-9371-43f6-9a03-a8cf051a5592",
   "metadata": {},
   "outputs": [
    {
     "name": "stdin",
     "output_type": "stream",
     "text": [
      "Nhap 6 diem:  2 3 4 5 6 7\n"
     ]
    },
    {
     "name": "stdout",
     "output_type": "stream",
     "text": [
      "33.1\n"
     ]
    }
   ],
   "source": [
    "a1, b1, c1, a2, b2, c3 = map(float, input(\"Nhap 6 diem: \").split())\n",
    "tb = (a1 + b1 + c1) + (a2 + b2) * 2 + c3 * 3/ 10\n",
    "print(f\"{tb:.1f}\")"
   ]
  },
  {
   "cell_type": "code",
   "execution_count": 23,
   "id": "784febfd-8647-4fc3-899b-5a0c024fbc6c",
   "metadata": {},
   "outputs": [
    {
     "name": "stdin",
     "output_type": "stream",
     "text": [
      "Nhap 2 so a va b:  2 3\n"
     ]
    },
    {
     "name": "stdout",
     "output_type": "stream",
     "text": [
      "8.0\n"
     ]
    }
   ],
   "source": [
    "a, b = map(float, input(\"Nhap 2 so a va b: \").split())\n",
    "lt = a**b\n",
    "print(lt)\n"
   ]
  },
  {
   "cell_type": "code",
   "execution_count": 28,
   "id": "e55015e7-0292-434d-b8a8-e749f6f23b00",
   "metadata": {},
   "outputs": [
    {
     "name": "stdin",
     "output_type": "stream",
     "text": [
      "Nhap vao 1 chu cai thuong: a\n"
     ]
    },
    {
     "name": "stdout",
     "output_type": "stream",
     "text": [
      "97\n",
      "A\n"
     ]
    }
   ],
   "source": [
    "cct = input(\"Nhap vao 1 chu cai thuong:\")\n",
    "ma_unicode = ord(cct)\n",
    "chu_in_hoa = chr(ma_unicode - 32)\n",
    "\n",
    "print(ma_unicode)\n",
    "print(chu_in_hoa)"
   ]
  },
  {
   "cell_type": "code",
   "execution_count": 31,
   "id": "e2952f5e-c551-4450-81bb-8556718ea8d9",
   "metadata": {},
   "outputs": [
    {
     "name": "stdin",
     "output_type": "stream",
     "text": [
      "Nhap nhiet do theo do C:  40\n"
     ]
    },
    {
     "name": "stdout",
     "output_type": "stream",
     "text": [
      "104.00\n"
     ]
    }
   ],
   "source": [
    "c = int(input(\"Nhap nhiet do theo do C: \"))\n",
    "f = 9/5*c + 32\n",
    "print(f\"{f:.2f}\")"
   ]
  },
  {
   "cell_type": "code",
   "execution_count": 42,
   "id": "d3bbe956-da14-41aa-ad7e-92cfc0a77fad",
   "metadata": {},
   "outputs": [
    {
     "name": "stdin",
     "output_type": "stream",
     "text": [
      "Nhap ten 3 nguoi:  Nam Minh Huy\n"
     ]
    },
    {
     "name": "stdout",
     "output_type": "stream",
     "text": [
      "Hi Huy, Minh and Nam\n"
     ]
    }
   ],
   "source": [
    "ten = input(\"Nhap ten 3 nguoi: \").split()\n",
    "print(f\"Hi {ten[2]}, {ten[1]} and {ten[0]}\")"
   ]
  },
  {
   "cell_type": "code",
   "execution_count": null,
   "id": "0d65d9f6-e840-485f-a455-62146f7daf44",
   "metadata": {},
   "outputs": [],
   "source": []
  },
  {
   "cell_type": "code",
   "execution_count": 47,
   "id": "67d8bc76-d91b-453b-ac23-8b008be52a49",
   "metadata": {},
   "outputs": [
    {
     "name": "stdin",
     "output_type": "stream",
     "text": [
      "Nhap vao 2 so nguyen duong a va b:  3 4\n"
     ]
    },
    {
     "name": "stdout",
     "output_type": "stream",
     "text": [
      "2\n"
     ]
    }
   ],
   "source": [
    "a, b = map(int, input(\"Nhap vao 2 so nguyen duong a va b: \").split())\n",
    "print(a*b % 10)"
   ]
  },
  {
   "cell_type": "code",
   "execution_count": 50,
   "id": "726d9eaf-0904-4b7f-90d1-150da83b487f",
   "metadata": {},
   "outputs": [
    {
     "name": "stdin",
     "output_type": "stream",
     "text": [
      "Nhap vao 2 so nguyen a, b:  2 3\n"
     ]
    },
    {
     "name": "stdout",
     "output_type": "stream",
     "text": [
      "3 2\n"
     ]
    }
   ],
   "source": [
    "a, b = map(int, input(\"Nhap vao 2 so nguyen a, b: \").split())\n",
    "a, b = b, a\n",
    "print(a, b)\n"
   ]
  },
  {
   "cell_type": "code",
   "execution_count": 52,
   "id": "5dfa52b6-cd29-439c-b0be-cea8be51f23c",
   "metadata": {},
   "outputs": [
    {
     "name": "stdout",
     "output_type": "stream",
     "text": [
      "nam\n",
      "do\n",
      "van\n"
     ]
    }
   ],
   "source": [
    "print(\"nam\")\n",
    "print(\"do\")\n",
    "print(\"van\")"
   ]
  },
  {
   "cell_type": "code",
   "execution_count": 53,
   "id": "a10db204-db8c-4b89-a9cb-972361d701b8",
   "metadata": {},
   "outputs": [
    {
     "name": "stdout",
     "output_type": "stream",
     "text": [
      "nam\n",
      "do\n",
      "van\n"
     ]
    }
   ],
   "source": [
    "print(\"nam\\ndo\\nvan\")"
   ]
  },
  {
   "cell_type": "code",
   "execution_count": 59,
   "id": "eec6336e-1e4c-42f5-9749-6bbab1912a13",
   "metadata": {},
   "outputs": [
    {
     "name": "stdout",
     "output_type": "stream",
     "text": [
      "Spring\n",
      "Summer\n",
      "Autumn\n",
      "Winter\n"
     ]
    }
   ],
   "source": [
    "print(\"Spring\", end=\"\\n\")\n",
    "print(\"Summer\", end=\"\\n\")\n",
    "print(\"Autumn\", end=\"\\n\")\n",
    "print(\"Winter\", end=\"\\n\")\n"
   ]
  },
  {
   "cell_type": "code",
   "execution_count": 62,
   "id": "dc45bd56-a0e1-4ba0-bdfc-a6d8ddeb0c25",
   "metadata": {},
   "outputs": [
    {
     "name": "stdout",
     "output_type": "stream",
     "text": [
      "Hello, world\n",
      "Hello, world\n",
      "Hello, world\n",
      "Hello, world\n",
      "Hello, world\n",
      "Hello, world\n",
      "Hello, world\n",
      "Hello, world\n",
      "Hello, world\n",
      "Hello, world\n"
     ]
    }
   ],
   "source": [
    "for i in range(10):\n",
    "    print(\"Hello, world\")"
   ]
  },
  {
   "cell_type": "code",
   "execution_count": null,
   "id": "2aa05590-6092-412e-8b1b-dfa9698960db",
   "metadata": {},
   "outputs": [],
   "source": []
  }
 ],
 "metadata": {
  "kernelspec": {
   "display_name": "Python [conda env:base] *",
   "language": "python",
   "name": "conda-base-py"
  },
  "language_info": {
   "codemirror_mode": {
    "name": "ipython",
    "version": 3
   },
   "file_extension": ".py",
   "mimetype": "text/x-python",
   "name": "python",
   "nbconvert_exporter": "python",
   "pygments_lexer": "ipython3",
   "version": "3.13.5"
  }
 },
 "nbformat": 4,
 "nbformat_minor": 5
}
