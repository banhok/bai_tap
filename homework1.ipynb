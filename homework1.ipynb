{
 "cells": [
  {
   "cell_type": "code",
   "execution_count": 3,
   "id": "95736a45-a393-49a1-9f88-0c86df81bc33",
   "metadata": {},
   "outputs": [
    {
     "name": "stdin",
     "output_type": "stream",
     "text": [
      "Nhap vao so nguyen n:  3\n"
     ]
    },
    {
     "name": "stdout",
     "output_type": "stream",
     "text": [
      "6\n"
     ]
    }
   ],
   "source": [
    "#bai1\n",
    "n = int(input(\"Nhap vao so nguyen n: \"))\n",
    "print(2*n)"
   ]
  },
  {
   "cell_type": "code",
   "execution_count": 15,
   "id": "8baff437-2318-482c-b59a-7cdb10209202",
   "metadata": {},
   "outputs": [
    {
     "name": "stdin",
     "output_type": "stream",
     "text": [
      "Nhap chieu dai va chieu rong:  5 4\n"
     ]
    },
    {
     "name": "stdout",
     "output_type": "stream",
     "text": [
      "Dien tich dat con lai de trong cay la:  7.44\n"
     ]
    }
   ],
   "source": [
    "#bai2\n",
    "a, b = map(int, input(\"Nhap chieu dai va chieu rong: \").split())\n",
    "R = min(a, b) \n",
    "r = R/2\n",
    "s1 = a*b\n",
    "s2 = 3.14 * r**2\n",
    "s = s1 - s2\n",
    "print(\"Dien tich dat con lai de trong cay la: \", f\"{s:.2f}\")\n"
   ]
  },
  {
   "cell_type": "code",
   "execution_count": 23,
   "id": "b2e3549e-da4b-4d33-95dc-d2c01d30faac",
   "metadata": {},
   "outputs": [
    {
     "name": "stdin",
     "output_type": "stream",
     "text": [
      "Nhap vao mot ki tu c: F\n"
     ]
    },
    {
     "name": "stdout",
     "output_type": "stream",
     "text": [
      "f\n"
     ]
    }
   ],
   "source": [
    "#bai3\n",
    "c = input(\"Nhap vao mot ki tu c:\")\n",
    "if 'A' <= c <= 'Z':\n",
    "    cthuong = chr(ord(c)+32)\n",
    "    print(cthuong)\n",
    "    \n",
    "else:\n",
    "    choa = chr(ord(c)-32)\n",
    "    print(choa)\n",
    "    \n",
    "    "
   ]
  },
  {
   "cell_type": "code",
   "execution_count": 35,
   "id": "8b27b1c4-7c02-4de5-b413-3c8238d43ee5",
   "metadata": {},
   "outputs": [
    {
     "name": "stdin",
     "output_type": "stream",
     "text": [
      "Nhap vao mot ky tu:  D\n"
     ]
    },
    {
     "name": "stdout",
     "output_type": "stream",
     "text": [
      "Chu thuong tuong ung la: d\n"
     ]
    }
   ],
   "source": [
    "#bai4\n",
    "c = input(\"Nhap vao mot ky tu: \")\n",
    "\n",
    "if 'A' <= c <= 'Z':\n",
    "    c_thuong = chr(ord(c) + 32)\n",
    "    print(\"Chu thuong tuong ung la:\", c_thuong)\n",
    "\n",
    "elif 'a' <= c <= 'z':\n",
    "    c_hoa = chr(ord(c) - 32)\n",
    "    print(\"Chu hoa tuong ung la:\", c_hoa)\n",
    "\n",
    "else:\n",
    "    print(\"Day khong phai chu cai\")\n"
   ]
  },
  {
   "cell_type": "code",
   "execution_count": 2,
   "id": "e2580720-91a8-42b4-95ea-edd32d06c88d",
   "metadata": {},
   "outputs": [
    {
     "name": "stdin",
     "output_type": "stream",
     "text": [
      "Nhap vao mot ky tu:  c\n"
     ]
    },
    {
     "name": "stdout",
     "output_type": "stream",
     "text": [
      "c la mot ky tu alphabet\n"
     ]
    }
   ],
   "source": [
    "#bai4 cach khac\n",
    "c=input(\"Nhap vao mot ky tu: \")\n",
    "if c.isalpha():\n",
    "    print(\"c la mot ky tu alphabet\")\n",
    "else:\n",
    "    print(\"c khong la mot ky tu alphabet\")\n",
    "    "
   ]
  },
  {
   "cell_type": "code",
   "execution_count": 17,
   "id": "cf06076d-5b3f-4918-a6cd-031a60bb8579",
   "metadata": {},
   "outputs": [
    {
     "name": "stdin",
     "output_type": "stream",
     "text": [
      "Nhap vao mot chu cai in hoa:  A\n"
     ]
    },
    {
     "name": "stdout",
     "output_type": "stream",
     "text": [
      "TH dac biet, khong co chu cai thuong lien truoc tuong ung\n"
     ]
    }
   ],
   "source": [
    "#bai5\n",
    "a = input(\"Nhap vao mot chu cai in hoa: \")\n",
    "if a != 'A':\n",
    "    b = chr(ord(a)+31)\n",
    "    print(\"Chu cai thuong lien truoc tuong ung la: \", b)\n",
    "else:\n",
    "    print(\"TH dac biet, khong co chu cai thuong lien truoc tuong ung\")\n",
    "\n"
   ]
  },
  {
   "cell_type": "code",
   "execution_count": 3,
   "id": "ba631a65-1723-469b-9001-44732e01991c",
   "metadata": {},
   "outputs": [
    {
     "name": "stdin",
     "output_type": "stream",
     "text": [
      "Nhap vao 3 so:  3 4 5\n"
     ]
    },
    {
     "name": "stdout",
     "output_type": "stream",
     "text": [
      "6.0\n"
     ]
    }
   ],
   "source": [
    "#bai6\n",
    "a, b, c = map(int, input(\"Nhap vao 3 so: \").split())\n",
    "if a+b>c or a+c>b or b+c>a:\n",
    "    p = (a+b+c)/2\n",
    "    s = p*(p-a)*(p-b)*(p-c)\n",
    "    print(s**0.5)\n",
    "else:\n",
    "    print(\"Khong phai la 3 canh cua tam giac\")\n",
    "    "
   ]
  },
  {
   "cell_type": "code",
   "execution_count": 5,
   "id": "4843dfb7-23f1-43da-b935-6866b7b3f0af",
   "metadata": {},
   "outputs": [
    {
     "name": "stdin",
     "output_type": "stream",
     "text": [
      "Nhap chuoi cac ki tu thuong do dai >=20:  a s d f g h j k l z x c v b n m q ư e r t y u i\n"
     ]
    },
    {
     "name": "stdout",
     "output_type": "stream",
     "text": [
      "chu cai thu 5 la:  d\n",
      "chu cai thu 9 la:  g\n"
     ]
    }
   ],
   "source": [
    "#bai7\n",
    "chuoi = input(\"Nhap chuoi cac ki tu thuong do dai >=20: \")\n",
    "if len(chuoi) >= 20:\n",
    "    print(\"chu cai thu 5 la: \", chuoi[4])\n",
    "    print(\"chu cai thu 9 la: \", chuoi[8])\n",
    "else:\n",
    "    print(\"chuoi chua du dai\")"
   ]
  },
  {
   "cell_type": "code",
   "execution_count": 11,
   "id": "fc7db50d-e9ea-4811-8ee2-79e32ad4f63d",
   "metadata": {},
   "outputs": [
    {
     "name": "stdin",
     "output_type": "stream",
     "text": [
      "Ten chu ho:  Nam\n",
      "Chi so thang truoc:  2000\n",
      "Chi so thang nay:  2586\n"
     ]
    },
    {
     "name": "stdout",
     "output_type": "stream",
     "text": [
      "Ho va ten:  Nam\n",
      "So tien phai tra la:  1855504.8 1855505\n"
     ]
    }
   ],
   "source": [
    "#bai8\n",
    "ten = input(\"Ten chu ho: \")\n",
    "a = int(input(\"Chi so thang truoc: \"))\n",
    "b = int(input(\"Chi so thang nay: \"))\n",
    "c = b-a\n",
    "if 0 <= c <= 50:\n",
    "    d = 1984*c\n",
    "elif 51 <= c <=100:\n",
    "    d = 2050*(c-50)+50*1984\n",
    "elif 101 <= c <=200:\n",
    "    d = 2380*(c-100)+50*1984+50*2050\n",
    "elif 201 <= c <=300:\n",
    "    d = 2998*(c-200)+50*1984+50*2050+100*2380\n",
    "elif 301 <= c <=400:\n",
    "    d = 3350*(c-300)+50*1984+50*2050+100*2380+100*2998\n",
    "else:\n",
    "    d = 3460*(c-400)+50*1984+50*2050+100*2380+100*2998+100*3350\n",
    "e = d*1.08\n",
    "\n",
    "\n",
    "print(\"Ho va ten: \", ten)\n",
    "print(\"So tien phai tra la: \", f\"{round(e)}\")\n",
    "\n"
   ]
  },
  {
   "cell_type": "code",
   "execution_count": null,
   "id": "d00d35e8-216a-41d9-a9fd-4f40264bc0f2",
   "metadata": {},
   "outputs": [],
   "source": [
    "#bai tap khac"
   ]
  },
  {
   "cell_type": "code",
   "execution_count": 3,
   "id": "c45a65e6-e09e-4e8c-b3ca-e7b132f9a4df",
   "metadata": {},
   "outputs": [
    {
     "name": "stdin",
     "output_type": "stream",
     "text": [
      "Nhap vao mot so nguyen:  4\n"
     ]
    },
    {
     "name": "stdout",
     "output_type": "stream",
     "text": [
      "4 la so chan\n"
     ]
    }
   ],
   "source": [
    "#bai1\n",
    "a =  int(input(\"Nhap vao mot so nguyen: \"))\n",
    "if a % 2 == 0:\n",
    "    print(a, \"la so chan\")\n",
    "else:\n",
    "    print(a, \"la so le\")\n"
   ]
  },
  {
   "cell_type": "code",
   "execution_count": 10,
   "id": "378da28e-6b17-4ec5-a5c5-32faa855f21e",
   "metadata": {},
   "outputs": [
    {
     "name": "stdin",
     "output_type": "stream",
     "text": [
      "Nhap vao mot so nguyen co chu so tan cung la 5:  2411723645\n"
     ]
    },
    {
     "name": "stdout",
     "output_type": "stream",
     "text": [
      "True\n"
     ]
    }
   ],
   "source": [
    "#bai2\n",
    "a =  int(input(\"Nhap vao mot so nguyen co chu so tan cung la 5: \"))\n",
    "if a % 5 == 0:\n",
    "    if (a-5) % 10 == 0:\n",
    "        print(\"True\")\n",
    "    else:\n",
    "        print(\"False\")\n",
    "else:\n",
    "    print(\"False\")"
   ]
  },
  {
   "cell_type": "code",
   "execution_count": 14,
   "id": "b53c1b4c-8e24-4ab6-8187-0958766cfdfe",
   "metadata": {},
   "outputs": [
    {
     "name": "stdin",
     "output_type": "stream",
     "text": [
      "Nhap vao mot so nguyen chia het cho 3 va 5:  3728487\n"
     ]
    },
    {
     "name": "stdout",
     "output_type": "stream",
     "text": [
      "False\n"
     ]
    }
   ],
   "source": [
    "#bai3\n",
    "a =  int(input(\"Nhap vao mot so nguyen chia het cho 3 va 5: \"))\n",
    "if a % 15 == 0:\n",
    "    print(\"True\")\n",
    "else:\n",
    "    print(\"False\")"
   ]
  },
  {
   "cell_type": "code",
   "execution_count": 16,
   "id": "120d0407-cb2b-4eb6-af6d-f831352fa932",
   "metadata": {},
   "outputs": [
    {
     "name": "stdin",
     "output_type": "stream",
     "text": [
      "Dien tuoi cua mot nguoi:  12\n"
     ]
    },
    {
     "name": "stdout",
     "output_type": "stream",
     "text": [
      "Nguoi do khong du tuoi de di bau cu\n"
     ]
    }
   ],
   "source": [
    "#bai4\n",
    "a = int(input(\"Dien tuoi cua mot nguoi: \"))\n",
    "if a >= 18:\n",
    "    print(\"Nguoi do du tuoi de di bau cu\")\n",
    "else:\n",
    "    print(\"Nguoi do khong du tuoi de di bau cu\")"
   ]
  },
  {
   "cell_type": "code",
   "execution_count": 19,
   "id": "6cdfed20-5845-4f49-a43e-9035c914d036",
   "metadata": {},
   "outputs": [
    {
     "name": "stdin",
     "output_type": "stream",
     "text": [
      "Nhap vao 2 so a va b:  35456 35242653\n"
     ]
    },
    {
     "name": "stdout",
     "output_type": "stream",
     "text": [
      "35242653.0\n"
     ]
    }
   ],
   "source": [
    "#bai5\n",
    "a, b = map(float, input(\"Nhap vao 2 so a va b: \").split())\n",
    "if a == b:\n",
    "    print(\"2 so a va b bang nhau\")\n",
    "else:\n",
    "    print(max(a, b))"
   ]
  },
  {
   "cell_type": "code",
   "execution_count": 23,
   "id": "25a55965-1cfb-4a4a-9273-a3ea4ead8cdc",
   "metadata": {},
   "outputs": [
    {
     "name": "stdin",
     "output_type": "stream",
     "text": [
      "Nhap vao mot ky tu:  '\n"
     ]
    },
    {
     "name": "stdout",
     "output_type": "stream",
     "text": [
      "Ky tu da nhap khong la chu cai hay chu so\n"
     ]
    }
   ],
   "source": [
    "#bai6\n",
    "a = input(\"Nhap vao mot ky tu: \")\n",
    "if a.isalpha():\n",
    "    print(\"Ky tu da nhap la chu cai\")\n",
    "elif a.isdigit():\n",
    "    print(\"Ky tu da nhap la chu so\")\n",
    "else:\n",
    "    print(\"Ky tu da nhap khong la chu cai hay chu so\")\n",
    "    "
   ]
  },
  {
   "cell_type": "code",
   "execution_count": 28,
   "id": "1f3db3d4-7949-404a-a9d6-98510aba0990",
   "metadata": {},
   "outputs": [
    {
     "name": "stdin",
     "output_type": "stream",
     "text": [
      "Nhap diem cua hoc sinh:  9.54\n"
     ]
    },
    {
     "name": "stdout",
     "output_type": "stream",
     "text": [
      "Hoc luc gioi\n"
     ]
    }
   ],
   "source": [
    "#bai7\n",
    "a = float(input(\"Nhap diem cua hoc sinh: \"))\n",
    "if 10 > a >= 8:\n",
    "    print(\"Hoc luc gioi\")\n",
    "elif 6.5 <= a <8:\n",
    "    print(\"Hoc luc kha\")\n",
    "elif 5 <= a <6.5:\n",
    "    print(\"Hoc luc trung binh\")\n",
    "elif 0 <= a <5:\n",
    "    print(\"Hoc luc yeu\")\n",
    "else:\n",
    "    print(\"Diem khong hop le, hay nhap lai\")"
   ]
  },
  {
   "cell_type": "code",
   "execution_count": 20,
   "id": "60854d8d-5944-43d3-9338-e65807956c71",
   "metadata": {},
   "outputs": [
    {
     "name": "stdin",
     "output_type": "stream",
     "text": [
      "Nhap vao mot nam bat ky:  2016\n"
     ]
    },
    {
     "name": "stdout",
     "output_type": "stream",
     "text": [
      "Nam do la nam nhuan\n"
     ]
    }
   ],
   "source": [
    "#bai8\n",
    "a = int(input(\"Nhap vao mot nam bat ky: \"))\n",
    "if a % 400 == 0 or (a % 4 == 0 and a % 100 != 0):\n",
    "    print(\"Nam do la nam nhuan\")\n",
    "else:\n",
    "    print(\"Nam do khong la nam nhuan\")\n",
    "          "
   ]
  },
  {
   "cell_type": "code",
   "execution_count": 25,
   "id": "4bd6c742-a575-4a46-8fa7-435d848a2bc0",
   "metadata": {},
   "outputs": [
    {
     "name": "stdin",
     "output_type": "stream",
     "text": [
      "Nhap vao mot chu so tu 0 den 9:  3\n"
     ]
    },
    {
     "name": "stdout",
     "output_type": "stream",
     "text": [
      "Ba\n"
     ]
    }
   ],
   "source": [
    "#bai9\n",
    "a = int(input(\"Nhap vao mot chu so tu 0 den 9: \"))\n",
    "def f(x):\n",
    "    match x:\n",
    "        case 0:\n",
    "            return \"Khong\"\n",
    "        case 1:\n",
    "            return \"Mot\"\n",
    "        case 2:\n",
    "            return \"Hai\"\n",
    "        case 3:\n",
    "            return \"Ba\"\n",
    "        case 4:\n",
    "            return \"Bon\"\n",
    "        case 5:\n",
    "            return \"Nam\"\n",
    "        case 6:\n",
    "            return \"Sau\"\n",
    "        case 7:\n",
    "            return \"Bay\"\n",
    "        case 8:\n",
    "            return \"Tam\"\n",
    "        case 9:\n",
    "            return \"Chin\"\n",
    "        case _:\n",
    "            return \"Chu so nhap vao khong hop le\"\n",
    "print(f(a))\n"
   ]
  },
  {
   "cell_type": "code",
   "execution_count": 31,
   "id": "e0247cdf-9ec1-4c47-99ff-08b2a747e0f0",
   "metadata": {},
   "outputs": [
    {
     "name": "stdin",
     "output_type": "stream",
     "text": [
      "Nhap diem thi:  -1\n"
     ]
    },
    {
     "name": "stdout",
     "output_type": "stream",
     "text": [
      "Diem thi khong hop le\n"
     ]
    }
   ],
   "source": [
    "#bai10\n",
    "a = float(input(\"Nhap diem thi: \"))\n",
    "if 10>=a>=4:\n",
    "    print(\"Qua mon\")\n",
    "elif 0<=a<4:\n",
    "    print(\"Thi lai\")\n",
    "else:\n",
    "    print(\"Diem thi khong hop le\")"
   ]
  },
  {
   "cell_type": "code",
   "execution_count": 37,
   "id": "e6b3db25-7fa3-43b1-83ac-07783ce05351",
   "metadata": {},
   "outputs": [
    {
     "name": "stdin",
     "output_type": "stream",
     "text": [
      "Nhap nam sinh cua ban:  2007\n"
     ]
    },
    {
     "name": "stdout",
     "output_type": "stream",
     "text": [
      "Tuoi cua ban la:  18 , ban da du 18 tuoi\n"
     ]
    }
   ],
   "source": [
    "#bai11\n",
    "a = int(input(\"Nhap nam sinh cua ban: \"))\n",
    "b = 2025-a\n",
    "if b >= 18:\n",
    "    print(\"Tuoi cua ban la: \", b, \", ban da du 18 tuoi\")\n",
    "elif 0<=b<18:\n",
    "    print(\"Tuoi cua ban la:\", b,\", ban chua du 18 tuoi\")\n",
    "else:\n",
    "    print(\"Nam sinh khong hop le\")"
   ]
  },
  {
   "cell_type": "code",
   "execution_count": null,
   "id": "1b9fd17c-9118-49dc-945a-e5b0ecef72f5",
   "metadata": {},
   "outputs": [],
   "source": []
  }
 ],
 "metadata": {
  "kernelspec": {
   "display_name": "Python [conda env:base] *",
   "language": "python",
   "name": "conda-base-py"
  },
  "language_info": {
   "codemirror_mode": {
    "name": "ipython",
    "version": 3
   },
   "file_extension": ".py",
   "mimetype": "text/x-python",
   "name": "python",
   "nbconvert_exporter": "python",
   "pygments_lexer": "ipython3",
   "version": "3.13.5"
  }
 },
 "nbformat": 4,
 "nbformat_minor": 5
}
