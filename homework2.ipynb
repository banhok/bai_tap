{
 "cells": [
  {
   "cell_type": "code",
   "execution_count": 2,
   "id": "7b805bff-ac1e-47ba-b72a-d4303600d72a",
   "metadata": {},
   "outputs": [
    {
     "name": "stdin",
     "output_type": "stream",
     "text": [
      "Nhập vào độ dài 2 cạnh của hình chữ nhật: 6 7\n"
     ]
    },
    {
     "name": "stdout",
     "output_type": "stream",
     "text": [
      "Diện tích hình chữ nhật là 42.0\n",
      "Chu vi hình chữ nhật là 26.0\n"
     ]
    }
   ],
   "source": [
    "#Bài 1\n",
    "a,b = map(float, input(\"Nhập vào độ dài 2 cạnh của hình chữ nhật:\").split())\n",
    "c=(a+b)*2\n",
    "s=a*b\n",
    "print(f\"Diện tích hình chữ nhật là {s}\")\n",
    "print(\"Chu vi hình chữ nhật là\", c)"
   ]
  },
  {
   "cell_type": "code",
   "execution_count": 7,
   "id": "1237a8bc-3fbc-4981-b43c-788beebd2001",
   "metadata": {},
   "outputs": [
    {
     "name": "stdin",
     "output_type": "stream",
     "text": [
      "Nhập vào bán kính của hình tròn: 3\n"
     ]
    },
    {
     "name": "stdout",
     "output_type": "stream",
     "text": [
      "Diện tích hình tròn là 28.27\n",
      "Chu vi hình tròn là 18.84955592153876\n"
     ]
    }
   ],
   "source": [
    "#Bài 2\n",
    "import math\n",
    "r = float(input(\"Nhập vào bán kính của hình tròn:\"))\n",
    "s = math.pi*r**2\n",
    "c = 2*math.pi*r\n",
    "print(\"Diện tích hình tròn là\", f\"{s:.2f}\")\n",
    "print(\"Chu vi hình tròn là\",c)\n",
    "\n"
   ]
  },
  {
   "cell_type": "code",
   "execution_count": 12,
   "id": "cedc0f66-a192-4c24-978b-6d6afd0f955d",
   "metadata": {},
   "outputs": [
    {
     "name": "stdin",
     "output_type": "stream",
     "text": [
      "Nhập vào 3 số bất kỳ: 3 4 5\n"
     ]
    },
    {
     "name": "stdout",
     "output_type": "stream",
     "text": [
      "Là 3 cạnh của tam giác vuông\n",
      "Chu vi của tam giác là 12.0\n",
      "Diện tích của tam giác là 6.0\n"
     ]
    }
   ],
   "source": [
    "#Bài 3\n",
    "a,b,c=map(float,input(\"Nhập vào 3 số bất kỳ:\").split())\n",
    "if a+b>c and a+c>b and b+c>a:\n",
    "    if a==b!=c or a==c!=b or b==c!=a:\n",
    "        print(\"Là 3 cạnh của tam giác cân\")\n",
    "    elif a==b==c:\n",
    "        print(\"Là 3 cạnh của tam giác đều\")\n",
    "    elif a**2+b**2==c**2 or b**2+c**2==a**2 or a**2+c**2==b**2:\n",
    "        print(\"Là 3 cạnh của tam giác vuông\")\n",
    "    p=(a+b+c)/2\n",
    "    s= (p*(p-a)*(p-b)*(p-c))**0.5\n",
    "    print(\"Chu vi của tam giác là\", 2*p)\n",
    "    print(\"Diện tích của tam giác là\", s)\n",
    "else:\n",
    "    print(\"Không là ba cạnh của tam giác\")"
   ]
  },
  {
   "cell_type": "code",
   "execution_count": 19,
   "id": "ff161395-2f57-4927-8bc4-4a1f42bc8397",
   "metadata": {},
   "outputs": [
    {
     "name": "stdin",
     "output_type": "stream",
     "text": [
      "Nhập vào 2 số a, b bất kỳ: 2 4\n"
     ]
    },
    {
     "name": "stdout",
     "output_type": "stream",
     "text": [
      "Phương trình ax+b=0 có nghiệm duy nhất x=-2.0\n"
     ]
    }
   ],
   "source": [
    "#Bài 4\n",
    "a,b=map(float,input(\"Nhập vào 2 số a, b bất kỳ:\").split())\n",
    "# ax+b=0\n",
    "if a==0:\n",
    "    if b==0:\n",
    "        print(\"Phương trình ax+b=0 có vô số nghiệm\")\n",
    "    else:\n",
    "        print(\"Phương trình ax+b=0 vô nghiệm\")\n",
    "else:\n",
    "    print(f\"Phương trình ax+b=0 có nghiệm duy nhất x={-b/a}\")\n"
   ]
  },
  {
   "cell_type": "code",
   "execution_count": 18,
   "id": "cd0333fb-4edd-4ac6-8f1f-7e7c8a1196a8",
   "metadata": {},
   "outputs": [
    {
     "name": "stdin",
     "output_type": "stream",
     "text": [
      "Nhập vào 3 hệ số a, b, c 5 -6 1\n"
     ]
    },
    {
     "name": "stdout",
     "output_type": "stream",
     "text": [
      "Phương trình có 2 nghiệm phân biệt x1=1.0, x2=0.2\n"
     ]
    }
   ],
   "source": [
    "#Bài 5\n",
    "import math\n",
    "a,b,c=map(float,input(\"Nhập vào 3 hệ số a, b, c\").split())\n",
    "if a==0:\n",
    "    if b==0:\n",
    "        print(\"Phương trình vô nghiệm\" if c!=0 else \"Phương trình có vô số nghiệm\")\n",
    "    else:\n",
    "        print(f\"Phương trình có một nghiệm x = {-c/b}\")\n",
    "else:\n",
    "    delta =b**2-4*a*c\n",
    "    if delta > 0:\n",
    "        x1 = (-b+math.sqrt(delta))/(2*a)\n",
    "        x2 = (-b-math.sqrt(delta))/(2*a)\n",
    "        print(f\"Phương trình có 2 nghiệm phân biệt x1={x1}, x2={x2}\")\n",
    "    elif delta==0:\n",
    "        x = -b/(2*a)\n",
    "        print(f\"Phương trình có nghiệm kép x={x}\")\n",
    "    else:\n",
    "        print(\"Phương trình vô nghiệm\")\n"
   ]
  },
  {
   "cell_type": "code",
   "execution_count": 21,
   "id": "dd241329-0a15-4f60-ab61-ad9b48d8d6e7",
   "metadata": {},
   "outputs": [
    {
     "name": "stdin",
     "output_type": "stream",
     "text": [
      "Nhập vào 4 số bất kì 3 4 5 6\n"
     ]
    },
    {
     "name": "stdout",
     "output_type": "stream",
     "text": [
      "Số lớn nhất trong 4 số là 6.0\n"
     ]
    }
   ],
   "source": [
    "#Bài 6\n",
    "a,b,c,d=map(float,input(\"Nhập vào 4 số bất kì\").split())\n",
    "n=[a,b,c,d]\n",
    "print(f\"Số lớn nhất trong 4 số là {max(n)}\")"
   ]
  },
  {
   "cell_type": "code",
   "execution_count": 22,
   "id": "d489b529-f869-4ec0-84f0-2b344cf5ee5a",
   "metadata": {},
   "outputs": [
    {
     "name": "stdin",
     "output_type": "stream",
     "text": [
      "Nhập vào 4 số bất kì 2341 234 2134 4\n"
     ]
    },
    {
     "name": "stdout",
     "output_type": "stream",
     "text": [
      "Số nhỏ nhất trong 4 số là 4.0\n"
     ]
    }
   ],
   "source": [
    "#Bài 7\n",
    "a,b,c,d=map(float,input(\"Nhập vào 4 số bất kì\").split())\n",
    "n=[a,b,c,d]\n",
    "print(f\"Số nhỏ nhất trong 4 số là {min(n)}\")"
   ]
  },
  {
   "cell_type": "code",
   "execution_count": 35,
   "id": "9061f7b3-c4f9-4b9f-b3eb-9333b4a1ab07",
   "metadata": {},
   "outputs": [
    {
     "name": "stdout",
     "output_type": "stream",
     "text": [
      "Hệ phương trình tuyến tính:\n",
      "ax+by=m cx+dy=n\n"
     ]
    },
    {
     "name": "stdin",
     "output_type": "stream",
     "text": [
      "Nhập vào các hệ số tương ứng: 2 1 3 0 0 9\n"
     ]
    },
    {
     "name": "stdout",
     "output_type": "stream",
     "text": [
      "Hệ phương trình vô nghiệm\n"
     ]
    }
   ],
   "source": [
    "#Bài 8\n",
    "print(\"Hệ phương trình tuyến tính:\")\n",
    "print(\"ax+by=m cx+dy=n\")\n",
    "a,b,m,c,d,n=map(float,input(\"Nhập vào các hệ số tương ứng:\").split())\n",
    "delta=a*d-b*c\n",
    "if delta!=0:\n",
    "    x=(m*d-b*n)/(a*d-b*c)\n",
    "    y=(a*n-m*c)/(a*d-b*c)\n",
    "    print(f\"Hệ phương trình có nghiệm duy nhất là x={x} và y={y}\")\n",
    "else:\n",
    "    if m*d-b*n==0 and a*n-m*c==0:\n",
    "        print(\"Hệ phương trình có vô số nghiệm\")\n",
    "    elif m*d-b*n !=0 or a*n-m*c!=0:\n",
    "        print(\"Hệ phương trình vô nghiệm\")\n",
    "        \n",
    "\n"
   ]
  },
  {
   "cell_type": "code",
   "execution_count": 39,
   "id": "abfc68f1-a8a6-42f7-b9ea-270e4c9a0c7f",
   "metadata": {},
   "outputs": [
    {
     "name": "stdin",
     "output_type": "stream",
     "text": [
      "Nhập vào thời gian công việc (giây): 41234\n"
     ]
    },
    {
     "name": "stdout",
     "output_type": "stream",
     "text": [
      "11.0 giờ 27 phút 14.0 giây\n"
     ]
    }
   ],
   "source": [
    "#Bài 9\n",
    "a=float(input(\"Nhập vào thời gian công việc (giây):\"))\n",
    "gio=a//3600\n",
    "phut=int((a/3600-gio)*60)\n",
    "giay=a-gio*3600-phut*60\n",
    "print(f\"{gio} giờ {phut} phút {giay} giây\")\n"
   ]
  },
  {
   "cell_type": "code",
   "execution_count": 44,
   "id": "4bb71046-fbb9-42cc-9a70-8cddf69d7888",
   "metadata": {},
   "outputs": [
    {
     "name": "stdin",
     "output_type": "stream",
     "text": [
      "Nhập vào tọa độ của tâm đường tròn: 0 0\n",
      "Nhập vào bán kính của đường tròn: 8\n",
      "Nhập vào tọa độ của một điểm A bất kỳ: 2 3\n"
     ]
    },
    {
     "name": "stdout",
     "output_type": "stream",
     "text": [
      "Điểm A nằm trong đường tròn\n"
     ]
    }
   ],
   "source": [
    "#Bài 10\n",
    "a,b=map(float,input(\"Nhập vào tọa độ của tâm đường tròn:\").split())\n",
    "r=float(input(\"Nhập vào bán kính của đường tròn:\"))\n",
    "x,y=map(float,input(\"Nhập vào tọa độ của một điểm A bất kỳ:\").split())\n",
    "d= ((x-a)**2 + (y-b)**2)**0.5\n",
    "if d==r:\n",
    "    print(\"Điểm A nằm trên đường tròn\")\n",
    "elif d<=r:\n",
    "    print(\"Điểm A nằm trong đường tròn\")\n",
    "else:\n",
    "    print(\"Điểm A nằm ngoài đường tròn\")"
   ]
  },
  {
   "cell_type": "code",
   "execution_count": 45,
   "id": "1e8a9298-8951-48c8-89ca-38a474d8515e",
   "metadata": {},
   "outputs": [
    {
     "name": "stdin",
     "output_type": "stream",
     "text": [
      "Nhập vào 2 số thực: 3 4\n"
     ]
    },
    {
     "name": "stdout",
     "output_type": "stream",
     "text": [
      "81.0\n"
     ]
    }
   ],
   "source": [
    "#Bài 11\n",
    "x,y=map(float,input(\"Nhập vào 2 số thực:\").split())\n",
    "print(x**y)"
   ]
  },
  {
   "cell_type": "code",
   "execution_count": null,
   "id": "2b4d62d4-f92d-413f-83f8-c416e27229d0",
   "metadata": {},
   "outputs": [],
   "source": []
  }
 ],
 "metadata": {
  "kernelspec": {
   "display_name": "Python [conda env:base] *",
   "language": "python",
   "name": "conda-base-py"
  },
  "language_info": {
   "codemirror_mode": {
    "name": "ipython",
    "version": 3
   },
   "file_extension": ".py",
   "mimetype": "text/x-python",
   "name": "python",
   "nbconvert_exporter": "python",
   "pygments_lexer": "ipython3",
   "version": "3.13.5"
  }
 },
 "nbformat": 4,
 "nbformat_minor": 5
}
