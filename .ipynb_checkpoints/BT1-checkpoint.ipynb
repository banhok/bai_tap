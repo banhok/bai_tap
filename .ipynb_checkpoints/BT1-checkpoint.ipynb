{
 "cells": [
  {
   "cell_type": "code",
   "execution_count": 3,
   "id": "95736a45-a393-49a1-9f88-0c86df81bc33",
   "metadata": {},
   "outputs": [
    {
     "name": "stdin",
     "output_type": "stream",
     "text": [
      "Nhap vao so nguyen n:  3\n"
     ]
    },
    {
     "name": "stdout",
     "output_type": "stream",
     "text": [
      "6\n"
     ]
    }
   ],
   "source": [
    "#bai1\n",
    "n = int(input(\"Nhap vao so nguyen n: \"))\n",
    "print(2*n)"
   ]
  },
  {
   "cell_type": "code",
   "execution_count": 15,
   "id": "8baff437-2318-482c-b59a-7cdb10209202",
   "metadata": {},
   "outputs": [
    {
     "name": "stdin",
     "output_type": "stream",
     "text": [
      "Nhap chieu dai va chieu rong:  5 4\n"
     ]
    },
    {
     "name": "stdout",
     "output_type": "stream",
     "text": [
      "Dien tich dat con lai de trong cay la:  7.44\n"
     ]
    }
   ],
   "source": [
    "#bai2\n",
    "a, b = map(int, input(\"Nhap chieu dai va chieu rong: \").split())\n",
    "R = min(a, b) \n",
    "r = R/2\n",
    "s1 = a*b\n",
    "s2 = 3.14 * r**2\n",
    "s = s1 - s2\n",
    "print(\"Dien tich dat con lai de trong cay la: \", f\"{s:.2f}\")\n"
   ]
  },
  {
   "cell_type": "code",
   "execution_count": 23,
   "id": "b2e3549e-da4b-4d33-95dc-d2c01d30faac",
   "metadata": {},
   "outputs": [
    {
     "name": "stdin",
     "output_type": "stream",
     "text": [
      "Nhap vao mot ki tu c: F\n"
     ]
    },
    {
     "name": "stdout",
     "output_type": "stream",
     "text": [
      "f\n"
     ]
    }
   ],
   "source": [
    "c = input(\"Nhap vao mot ki tu c:\")\n",
    "if 'A' <= c <= 'Z':\n",
    "    cthuong = chr(ord(c)+32)\n",
    "    print(cthuong)\n",
    "    \n",
    "else:\n",
    "    choa = chr(ord(c)-32)\n",
    "    print(choa)\n",
    "    \n",
    "    "
   ]
  },
  {
   "cell_type": "code",
   "execution_count": 35,
   "id": "8b27b1c4-7c02-4de5-b413-3c8238d43ee5",
   "metadata": {},
   "outputs": [
    {
     "name": "stdin",
     "output_type": "stream",
     "text": [
      "Nhap vao mot ky tu:  D\n"
     ]
    },
    {
     "name": "stdout",
     "output_type": "stream",
     "text": [
      "Chu thuong tuong ung la: d\n"
     ]
    }
   ],
   "source": [
    "c = input(\"Nhap vao mot ky tu: \")\n",
    "\n",
    "if 'A' <= c <= 'Z':\n",
    "    c_thuong = chr(ord(c) + 32)\n",
    "    print(\"Chu thuong tuong ung la:\", c_thuong)\n",
    "\n",
    "elif 'a' <= c <= 'z':\n",
    "    c_hoa = chr(ord(c) - 32)\n",
    "    print(\"Chu hoa tuong ung la:\", c_hoa)\n",
    "\n",
    "else:\n",
    "    print(\"Day khong phai chu cai\")\n"
   ]
  },
  {
   "cell_type": "code",
   "execution_count": 52,
   "id": "e2580720-91a8-42b4-95ea-edd32d06c88d",
   "metadata": {},
   "outputs": [
    {
     "name": "stdin",
     "output_type": "stream",
     "text": [
      "Nhap vao mot ky tu:  3\n"
     ]
    },
    {
     "name": "stdout",
     "output_type": "stream",
     "text": [
      "c khong la mot ky tu alphabet\n"
     ]
    }
   ],
   "source": [
    "c=input(\"Nhap vao mot ky tu: \")\n",
    "if c.isalpha():\n",
    "    print(\"c la mot ky tu alphabet\")\n",
    "else:\n",
    "    print(\"c khong la mot ky tu alphabet\")"
   ]
  },
  {
   "cell_type": "code",
   "execution_count": 3,
   "id": "ba631a65-1723-469b-9001-44732e01991c",
   "metadata": {},
   "outputs": [
    {
     "name": "stdin",
     "output_type": "stream",
     "text": [
      "Nhap vao 3 so:  3 4 5\n"
     ]
    },
    {
     "name": "stdout",
     "output_type": "stream",
     "text": [
      "6.0\n"
     ]
    }
   ],
   "source": [
    "a, b, c = map(int, input(\"Nhap vao 3 so: \").split())\n",
    "if a+b>c or a+c>b or b+c>a:\n",
    "    p = (a+b+c)/2\n",
    "    s = p*(p-a)*(p-b)*(p-c)\n",
    "    print(s**0.5)\n",
    "else:\n",
    "    print(\"a, b, c khong phai la 3 canh cua 1 tam giac\")\n",
    "    "
   ]
  },
  {
   "cell_type": "code",
   "execution_count": 5,
   "id": "4843dfb7-23f1-43da-b935-6866b7b3f0af",
   "metadata": {},
   "outputs": [
    {
     "name": "stdin",
     "output_type": "stream",
     "text": [
      "Nhap chuoi cac ki tu thuong do dai >=20:  a s d f g h j k l z x c v b n m q ư e r t y u i\n"
     ]
    },
    {
     "name": "stdout",
     "output_type": "stream",
     "text": [
      "chu cai thu 5 la:  d\n",
      "chu cai thu 9 la:  g\n"
     ]
    }
   ],
   "source": [
    "chuoi = input(\"Nhap chuoi cac ki tu thuong do dai >=20: \")\n",
    "if len(chuoi) >= 20:\n",
    "    print(\"chu cai thu 5 la: \", chuoi[4])\n",
    "    print(\"chu cai thu 9 la: \", chuoi[8])\n",
    "else:\n",
    "    print(\"chuoi chua du dai\")"
   ]
  },
  {
   "cell_type": "code",
   "execution_count": null,
   "id": "fc7db50d-e9ea-4811-8ee2-79e32ad4f63d",
   "metadata": {},
   "outputs": [],
   "source": []
  }
 ],
 "metadata": {
  "kernelspec": {
   "display_name": "Python [conda env:base] *",
   "language": "python",
   "name": "conda-base-py"
  },
  "language_info": {
   "codemirror_mode": {
    "name": "ipython",
    "version": 3
   },
   "file_extension": ".py",
   "mimetype": "text/x-python",
   "name": "python",
   "nbconvert_exporter": "python",
   "pygments_lexer": "ipython3",
   "version": "3.13.5"
  }
 },
 "nbformat": 4,
 "nbformat_minor": 5
}
